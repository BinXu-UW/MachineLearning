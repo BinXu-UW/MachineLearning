{
 "cells": [
  {
   "cell_type": "markdown",
   "metadata": {},
   "source": [
    "Step1:Take a random 60% samples for training and the rest 40% for test."
   ]
  },
  {
   "cell_type": "code",
   "execution_count": 13,
   "metadata": {},
   "outputs": [
    {
     "name": "stdout",
     "output_type": "stream",
     "text": [
      "<class 'pandas.core.frame.DataFrame'>\n",
      "RangeIndex: 1309 entries, 0 to 1308\n",
      "Data columns (total 4 columns):\n",
      "pclass    1309 non-null object\n",
      "age       1046 non-null float64\n",
      "sex       1309 non-null object\n",
      "sibsp     1309 non-null int64\n",
      "dtypes: float64(1), int64(1), object(2)\n",
      "memory usage: 41.0+ KB\n",
      "['age', 'pclass=1st', 'pclass=2nd', 'pclass=3rd', 'sex=female', 'sex=male', 'sibsp']\n"
     ]
    },
    {
     "name": "stderr",
     "output_type": "stream",
     "text": [
      "D:\\Anaconda3\\lib\\site-packages\\pandas\\core\\generic.py:3549: SettingWithCopyWarning: \n",
      "A value is trying to be set on a copy of a slice from a DataFrame\n",
      "\n",
      "See the caveats in the documentation: http://pandas.pydata.org/pandas-docs/stable/indexing.html#indexing-view-versus-copy\n",
      "  self._update_inplace(new_data)\n"
     ]
    }
   ],
   "source": [
    "from sklearn import tree\n",
    "from sklearn.metrics import accuracy_score\n",
    "from sklearn.grid_search import GridSearchCV\n",
    "from operator import itemgetter\n",
    "from scipy.stats import randint\n",
    "import pandas as pd\n",
    "import numpy as np\n",
    "from sklearn.cross_validation import  cross_val_score\n",
    "\n",
    "\n",
    "#import pandas as pd\n",
    "titanic = pd.read_csv('D:\\SIT_Class\\EE695Machine Learning\\HW2\\Titanic.csv')\n",
    "#titanic.head()\n",
    "#titanic.info()\n",
    "\n",
    "x = titanic[['pclass','age','sex','sibsp']]\n",
    "y = titanic['survived']\n",
    "fname = ['pclass','age','sex','sibsp']\n",
    "x.info()\n",
    "#print(x['age'].mode())\n",
    "x['age'].fillna(24.0,inplace = True)\n",
    "#x.info()\n",
    "from sklearn.model_selection import train_test_split\n",
    "x_train,x_test,y_train,y_test = train_test_split(x,y,test_size = 0.4,random_state = 99)\n",
    "\n",
    "from sklearn.feature_extraction import DictVectorizer\n",
    "vec = DictVectorizer(sparse = False)\n",
    "x_train = vec.fit_transform(x_train.to_dict(orient='record'))\n",
    "print(vec.feature_names_)\n",
    "x_test = vec.fit_transform(x_test.to_dict(orient='record'))"
   ]
  },
  {
   "cell_type": "markdown",
   "metadata": {},
   "source": [
    "Step2:Plot the full tree."
   ]
  },
  {
   "cell_type": "code",
   "execution_count": 14,
   "metadata": {},
   "outputs": [
    {
     "name": "stdout",
     "output_type": "stream",
     "text": [
      "clf:DecisionTreeClassifier(class_weight=None, criterion='gini', max_depth=None,\n",
      "            max_features=None, max_leaf_nodes=None,\n",
      "            min_impurity_decrease=0.0, min_impurity_split=None,\n",
      "            min_samples_leaf=1, min_samples_split=2,\n",
      "            min_weight_fraction_leaf=0.0, presort=False, random_state=None,\n",
      "            splitter='best')\n",
      "\n",
      "\n",
      "Step2:\n",
      "The full tree has been printed out as HW2_BinXu_Step2.png\n"
     ]
    }
   ],
   "source": [
    "#Using decision tree for classification\n",
    "clf = tree.DecisionTreeClassifier()\n",
    "clf.fit(x_train,y_train)\n",
    "print(\"clf:\" + str(clf))\n",
    "print(\"\\n\")\n",
    "\n",
    "with open(\"Step2.dot\",'w') as f:\n",
    "    f=tree.export_graphviz(clf,out_file=f,\n",
    "                              feature_names = vec.feature_names_,\n",
    "                              class_names = ['Died', 'Survived'],\n",
    "                              rounded = True,\n",
    "                              filled= True )\n",
    "\n",
    "from subprocess import call\n",
    "call(['dot','-T','png','Step2.dot','-o','HW2_BinXu_Step2.png'])\n",
    "print(\"Step2:\")\n",
    "print(\"The full tree has been printed out as HW2_BinXu_Step2.png\")"
   ]
  },
  {
   "cell_type": "markdown",
   "metadata": {},
   "source": [
    "Step3:check the performance of the full model: in‐sample and out-of‐sample accuracy"
   ]
  },
  {
   "cell_type": "code",
   "execution_count": 15,
   "metadata": {},
   "outputs": [
    {
     "name": "stdout",
     "output_type": "stream",
     "text": [
      "Step3:\n",
      "accuracy in sample(training set) : 0.895541401274\n",
      "accuracy out of sample (test set) : 0.75572519084\n",
      "\n",
      "\n",
      "Training set:\n",
      "                 Predicted Fatalities  Predicted Survival\n",
      "True Fatalities                   466                  20\n",
      "True Survival                      62                 237\n",
      "\n",
      "\n",
      "Percent of survivors correctly predicted(on training set):\n",
      "0.792642140468\n",
      "Percent of fatalities correctly predicted(on training set):\n",
      "0.958847736626\n",
      "\n",
      "\n",
      "Test set:\n",
      "                 Predicted Fatalities  Predicted Survival\n",
      "True Fatalities                   276                  47\n",
      "True Survival                      81                 120\n",
      "\n",
      "\n",
      "Percent of survivors correctly predicted(on test set):\n",
      "0.597014925373\n",
      "Percent of fatalities correctly predicted(on test set):\n",
      "0.854489164087\n"
     ]
    }
   ],
   "source": [
    "##########################################################\n",
    "#predict test data and train data accuracy\n",
    "y_predict_test = clf.predict(x_test)\n",
    "y_predict_train= clf.predict(x_train)\n",
    "\n",
    "from sklearn.metrics import accuracy_score\n",
    "\n",
    "print(\"Step3:\")\n",
    "print (\"accuracy in sample(training set) : \"+str(accuracy_score(y_train, y_predict_train)))\n",
    "print (\"accuracy out of sample (test set) : \"+str(accuracy_score(y_test, y_predict_test)))\n",
    "print(\"\\n\")\n",
    "from sklearn.metrics import confusion_matrix\n",
    "#confusion matrix\n",
    "print(\"Training set:\")\n",
    "print(pd.DataFrame(\n",
    "    confusion_matrix(y_train, y_predict_train),\n",
    "    columns=['Predicted Fatalities', 'Predicted Survival'],\n",
    "    index=['True Fatalities', 'True Survival']\n",
    "))\n",
    "print(\"\\n\")\n",
    "a=[]\n",
    "a=confusion_matrix(y_train, y_predict_train)\n",
    "print(\"Percent of survivors correctly predicted(on training set):\")\n",
    "print(a[1][1]/(a[1][1]+a[1][0]))\n",
    "print(\"Percent of fatalities correctly predicted(on training set):\")\n",
    "print(a[0][0]/(a[0][1]+a[0][0]))\n",
    "print(\"\\n\")\n",
    "print(\"Test set:\")\n",
    "print(pd.DataFrame(\n",
    "    confusion_matrix(y_test, y_predict_test),\n",
    "    columns=['Predicted Fatalities', 'Predicted Survival'],\n",
    "    index=['True Fatalities', 'True Survival']\n",
    "))\n",
    "print(\"\\n\")\n",
    "b=[]\n",
    "b=confusion_matrix(y_test, y_predict_test)\n",
    "print(\"Percent of survivors correctly predicted(on test set):\")\n",
    "print(b[1][1]/(b[1][1]+b[1][0]))\n",
    "print(\"Percent of fatalities correctly predicted(on test set):\")\n",
    "print(b[0][0]/(b[0][1]+b[0][0]))\n",
    "############################################################"
   ]
  },
  {
   "cell_type": "code",
   "execution_count": 24,
   "metadata": {},
   "outputs": [
    {
     "name": "stdout",
     "output_type": "stream",
     "text": [
      "Accuracy score:0.895541401274\n",
      "\n",
      "\n"
     ]
    }
   ],
   "source": [
    "##########################################################\n",
    "y_predict = clf.predict(x_test)\n",
    "from sklearn.metrics import classification_report\n",
    "print(\"Accuracy score:\" + str(clf.score(x_train,y_train)))\n",
    "print(\"\\n\")\n",
    "#print(clf.score(x_train,y_train))\n",
    "#print(classification_report(y_predict,y_test))\n",
    "\n",
    "tree.export_graphviz(clf,out_file = 'tree.dot')\n",
    "#from sklearn.model_selection import KFold\n",
    "meanlist =[]\n",
    "def report(grid_scores, n_top=3):\n",
    "    \"\"\"Report top n_top parameters settings, default n_top=3.\n",
    "\n",
    "    Args\n",
    "    ----\n",
    "    grid_scores -- output from grid or random search\n",
    "    n_top -- how many to report, of top models\n",
    "\n",
    "    Returns\n",
    "    -------\n",
    "    top_params -- [dict] top parameter settings found in\n",
    "                  search\n",
    "    \"\"\"\n",
    "    \n",
    "    top_scores = sorted(grid_scores,\n",
    "                        key=itemgetter(1),\n",
    "                        reverse=True)[:n_top]\n",
    "    for i, score in enumerate(top_scores):\n",
    "        \n",
    "        print(\"Model with rank: {0}\".format(i + 1))\n",
    "        print((\"Mean validation score: \"\n",
    "               \"{0:.3f} (std: {1:.3f})\").format(\n",
    "               score.mean_validation_score,\n",
    "               np.std(score.cv_validation_scores)))\n",
    "        print(\"Parameters: {0}\".format(score.parameters))\n",
    "        print(\"\")\n",
    "\n",
    "        meanlist.append(score.mean_validation_score)\n",
    "\n",
    "\n",
    "    return top_scores[0].parameters, meanlist"
   ]
  },
  {
   "cell_type": "markdown",
   "metadata": {},
   "source": [
    "Step4:Find the minimum number of misclassification and choose the corresponding tree size to prune the tree."
   ]
  },
  {
   "cell_type": "code",
   "execution_count": 25,
   "metadata": {},
   "outputs": [
    {
     "name": "stdout",
     "output_type": "stream",
     "text": [
      "Model with rank: 1\n",
      "Mean validation score: 0.792 (std: 0.059)\n",
      "Parameters: {'criterion': 'gini', 'max_depth': None, 'max_leaf_nodes': 2, 'min_samples_leaf': 1, 'min_samples_split': 2}\n",
      "\n",
      "Model with rank: 1\n",
      "Mean validation score: 0.792 (std: 0.059)\n",
      "Parameters: {'criterion': 'gini', 'max_depth': None, 'max_leaf_nodes': 3, 'min_samples_leaf': 1, 'min_samples_split': 2}\n",
      "\n",
      "Model with rank: 1\n",
      "Mean validation score: 0.786 (std: 0.057)\n",
      "Parameters: {'criterion': 'entropy', 'max_depth': None, 'max_leaf_nodes': 4, 'min_samples_leaf': 1, 'min_samples_split': 2}\n",
      "\n",
      "Model with rank: 1\n",
      "Mean validation score: 0.802 (std: 0.048)\n",
      "Parameters: {'criterion': 'gini', 'max_depth': None, 'max_leaf_nodes': 5, 'min_samples_leaf': 1, 'min_samples_split': 2}\n",
      "\n",
      "Model with rank: 1\n",
      "Mean validation score: 0.807 (std: 0.044)\n",
      "Parameters: {'criterion': 'gini', 'max_depth': None, 'max_leaf_nodes': 6, 'min_samples_leaf': 1, 'min_samples_split': 2}\n",
      "\n",
      "Model with rank: 1\n",
      "Mean validation score: 0.809 (std: 0.043)\n",
      "Parameters: {'criterion': 'gini', 'max_depth': None, 'max_leaf_nodes': 7, 'min_samples_leaf': 1, 'min_samples_split': 2}\n",
      "\n",
      "Model with rank: 1\n",
      "Mean validation score: 0.817 (std: 0.042)\n",
      "Parameters: {'criterion': 'entropy', 'max_depth': None, 'max_leaf_nodes': 8, 'min_samples_leaf': 1, 'min_samples_split': 2}\n",
      "\n",
      "Model with rank: 1\n",
      "Mean validation score: 0.817 (std: 0.042)\n",
      "Parameters: {'criterion': 'entropy', 'max_depth': None, 'max_leaf_nodes': 9, 'min_samples_leaf': 1, 'min_samples_split': 2}\n",
      "\n",
      "Model with rank: 1\n",
      "Mean validation score: 0.815 (std: 0.042)\n",
      "Parameters: {'criterion': 'entropy', 'max_depth': None, 'max_leaf_nodes': 10, 'min_samples_leaf': 1, 'min_samples_split': 2}\n",
      "\n",
      "[0.7919847328244275, 0.7919847328244275, 0.7862595419847328, 0.8015267175572519, 0.8072519083969466, 0.8091603053435115, 0.816793893129771, 0.816793893129771, 0.8148854961832062]\n",
      "Model with rank: 1\n",
      "Mean validation score: 0.815 (std: 0.042)\n",
      "Parameters: {'criterion': 'entropy', 'max_depth': None, 'max_leaf_nodes': 10, 'min_samples_leaf': 1, 'min_samples_split': 2}\n",
      "\n",
      "Model with rank: 2\n",
      "Mean validation score: 0.815 (std: 0.042)\n",
      "Parameters: {'criterion': 'entropy', 'max_depth': None, 'max_leaf_nodes': 10, 'min_samples_leaf': 1, 'min_samples_split': 10}\n",
      "\n",
      "Model with rank: 3\n",
      "Mean validation score: 0.815 (std: 0.042)\n",
      "Parameters: {'criterion': 'entropy', 'max_depth': 5, 'max_leaf_nodes': 10, 'min_samples_leaf': 1, 'min_samples_split': 2}\n",
      "\n",
      "             precision    recall  f1-score   support\n",
      "\n",
      "          0       0.84      0.83      0.83       329\n",
      "          1       0.72      0.74      0.73       195\n",
      "\n",
      "avg / total       0.80      0.79      0.79       524\n",
      "\n"
     ]
    },
    {
     "data": {
      "image/png": "[encoded data removed]",
      "text/plain": [
       "<matplotlib.figure.Figure at 0x186648b1828>"
      ]
     },
     "metadata": {},
     "output_type": "display_data"
    }
   ],
   "source": [
    "for i in range(2,11):\n",
    "    param = {'criterion':['gini','entropy'],\n",
    "             \"min_samples_split\":[2,10,20],\n",
    "             \"max_depth\":[None,2,5,10],\n",
    "             \"min_samples_leaf\":[1,5,10],\n",
    "             \"max_leaf_nodes\": [i]}\n",
    "    grid_search = GridSearchCV(clf,param,cv=10)\n",
    "    grid_search.fit(x_test,y_test)\n",
    "    [best_par,meanlist] = report(grid_search.grid_scores_,1)\n",
    "#    print(grid_search.grid_scores_)\n",
    "print(meanlist)\n",
    "#print(best_par)\n",
    "\n",
    "treesize = [2,3,4,5,6,7,8,9,10]\n",
    "misclass = []\n",
    "for acc in meanlist:\n",
    "    misclass.append((1-acc)*1309*0.6)\n",
    "    \n",
    "\n",
    "good_par = report(grid_search.grid_scores_,3)[0]\n",
    "\n",
    "prune_tree = tree.DecisionTreeClassifier(**good_par)\n",
    "prune_tree.fit(x_train,y_train)\n",
    "tree.export_graphviz(prune_tree,out_file=\"prune.dot\")\n",
    "y_predict_new = prune_tree.predict(x_test)\n",
    "print(classification_report(y_predict_new,y_test))\n",
    "\n",
    "#print(results)\n",
    "import pylab as pl\n",
    "pl.plot(treesize,misclass)\n",
    "pl.xlabel('tree size')\n",
    "pl.ylabel('misclass')\n",
    "pl.show() "
   ]
  },
  {
   "cell_type": "markdown",
   "metadata": {},
   "source": [
    "Stpe5:Prune the tree with the optimal tree size. Plot the pruned tree."
   ]
  },
  {
   "cell_type": "code",
   "execution_count": 27,
   "metadata": {},
   "outputs": [
    {
     "name": "stdout",
     "output_type": "stream",
     "text": [
      "Step5:\n",
      "The optimal tree has been printed out as HW2_BinXu_Step5.png\n"
     ]
    }
   ],
   "source": [
    "# best tree\n",
    "best_tree=tree.DecisionTreeClassifier(max_leaf_nodes=8,criterion=\"entropy\")\n",
    "best_tree=best_tree.fit(x_train,y_train)\n",
    "\n",
    "#Visulize\n",
    "with open(\"Step5.dot\",'w') as f:\n",
    "    f=tree.export_graphviz(best_tree,out_file=f,\n",
    "                              feature_names =vec.feature_names_,\n",
    "                              class_names = ['Died', 'Survived'],\n",
    "                              rounded = True,\n",
    "                              filled= True )\n",
    "    # graph=graphviz.Source(f)\n",
    "from subprocess import call\n",
    "call(['dot','-T','png','Step5.dot','-o','HW2_BinXu_Step5.png'])\n",
    "print(\"Step5:\")\n",
    "print(\"The optimal tree has been printed out as HW2_BinXu_Step5.png\")\n"
   ]
  },
  {
   "cell_type": "markdown",
   "metadata": {},
   "source": [
    "Step6:Report as many details as you can on the final pruned tree."
   ]
  },
  {
   "cell_type": "code",
   "execution_count": 28,
   "metadata": {},
   "outputs": [
    {
     "name": "stdout",
     "output_type": "stream",
     "text": [
      "Step6:\n",
      "accuracy in sample(training set) : 0.808917197452\n",
      "accuracy out of sample (test set) : 0.80534351145\n",
      "\n",
      "\n",
      "Training set:\n",
      "                 Predicted Fatalities  Predicted Survival\n",
      "True Fatalities                   416                  70\n",
      "True Survival                      80                 219\n",
      "\n",
      "\n",
      "Percent of survivors correctly predicted(on training set):\n",
      "0.732441471572\n",
      "Percent of fatalities correctly predicted(on training set):\n",
      "0.855967078189\n",
      "\n",
      "\n",
      "Test set:\n",
      "                 Predicted Fatalities  Predicted Survival\n",
      "True Fatalities                   279                  44\n",
      "True Survival                      58                 143\n",
      "\n",
      "\n",
      "Percent of survivors correctly predicted(on test set):\n",
      "0.71144278607\n",
      "Percent of fatalities correctly predicted(on test set):\n",
      "0.863777089783\n"
     ]
    }
   ],
   "source": [
    "y_predict_test2 = best_tree.predict(x_test)\n",
    "y_predict_train2= best_tree.predict(x_train)\n",
    "\n",
    "print(\"Step6:\")\n",
    "print (\"accuracy in sample(training set) : \"+str(accuracy_score(y_train, y_predict_train2)))\n",
    "print (\"accuracy out of sample (test set) : \"+str(accuracy_score(y_test, y_predict_test2)))\n",
    "print(\"\\n\")\n",
    "from sklearn.metrics import confusion_matrix\n",
    "#confusion matrix\n",
    "print(\"Training set:\")\n",
    "print(pd.DataFrame(\n",
    "    confusion_matrix(y_train, y_predict_train2),\n",
    "    columns=['Predicted Fatalities', 'Predicted Survival'],\n",
    "    index=['True Fatalities', 'True Survival']\n",
    "))\n",
    "print(\"\\n\")\n",
    "a=[]\n",
    "a=confusion_matrix(y_train, y_predict_train2)\n",
    "print(\"Percent of survivors correctly predicted(on training set):\")\n",
    "print(a[1][1]/(a[1][1]+a[1][0]))\n",
    "print(\"Percent of fatalities correctly predicted(on training set):\")\n",
    "print(a[0][0]/(a[0][1]+a[0][0]))\n",
    "print(\"\\n\")\n",
    "print(\"Test set:\")\n",
    "print(pd.DataFrame(\n",
    "    confusion_matrix(y_test, y_predict_test2),\n",
    "    columns=['Predicted Fatalities', 'Predicted Survival'],\n",
    "    index=['True Fatalities', 'True Survival']\n",
    "))\n",
    "print(\"\\n\")\n",
    "b=[]\n",
    "b=confusion_matrix(y_test, y_predict_test2)\n",
    "print(\"Percent of survivors correctly predicted(on test set):\")\n",
    "print(b[1][1]/(b[1][1]+b[1][0]))\n",
    "print(\"Percent of fatalities correctly predicted(on test set):\")\n",
    "print(b[0][0]/(b[0][1]+b[0][0]))"
   ]
  },
  {
   "cell_type": "markdown",
   "metadata": {},
   "source": [
    "After pruned the tree the \n",
    "accuracy in sample(training set) : 80.89%\n",
    "accuracy out of sample (test set) : 80.53%\n",
    "\n",
    "By comparing the previous the accuracy\n",
    "accuracy in sample(training set) : 89.55%\n",
    "accuracy out of sample (test set) : 75.57%\n",
    "\n",
    "The accuracy out of sample (test set) is better after pruned the tree(80.53%>75.57%).\n",
    "\n",
    "By using the DecisionTreeClassifier() function, the max_leaf_nodes should be 8 to prune the tree. Because the accuracy out of sample for prune is 81.92%, the highest number.\n",
    "\n",
    "After pruned the tree the :\n",
    "Percent of survivors correctly predicted(on training set): 73.24%\n",
    "Percent of fatalities correctly predicted(on training set):85.59%\n",
    "Percent of survivors correctly predicted(on test set):71.14%\n",
    "Percent of fatalities correctly predicted(on test set):86.37%\n",
    "\n",
    "There is indead an improvement in out of sample for the full tree and the pruned tree.\n"
   ]
  },
  {
   "cell_type": "code",
   "execution_count": null,
   "metadata": {
    "collapsed": true
   },
   "outputs": [],
   "source": []
  }
 ],
 "metadata": {
  "kernelspec": {
   "display_name": "Python 3",
   "language": "python",
   "name": "python3"
  },
  "language_info": {
   "codemirror_mode": {
    "name": "ipython",
    "version": 3
   },
   "file_extension": ".py",
   "mimetype": "text/x-python",
   "name": "python",
   "nbconvert_exporter": "python",
   "pygments_lexer": "ipython3",
   "version": "3.6.1"
  }
 },
 "nbformat": 4,
 "nbformat_minor": 2
}
